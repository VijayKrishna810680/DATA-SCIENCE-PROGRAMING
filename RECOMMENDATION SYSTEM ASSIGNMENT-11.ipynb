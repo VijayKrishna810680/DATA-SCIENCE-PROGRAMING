{
  "nbformat": 4,
  "nbformat_minor": 0,
  "metadata": {
    "colab": {
      "provenance": []
    },
    "kernelspec": {
      "name": "python3",
      "display_name": "Python 3"
    },
    "language_info": {
      "name": "python"
    }
  },
  "cells": [
    {
      "cell_type": "code",
      "execution_count": 35,
      "metadata": {
        "colab": {
          "base_uri": "https://localhost:8080/"
        },
        "id": "FZB1CX0pnX1f",
        "outputId": "cf6f3a77-d643-4c65-d8d4-424508844763"
      },
      "outputs": [
        {
          "output_type": "stream",
          "name": "stdout",
          "text": [
            "First few rows of the dataset:\n",
            "    anime_id                              name  \\\n",
            "0     32281                    Kimi no Na wa.   \n",
            "1      5114  Fullmetal Alchemist: Brotherhood   \n",
            "2     28977                          Gintama°   \n",
            "3      9253                       Steins;Gate   \n",
            "4      9969                     Gintama&#039;   \n",
            "\n",
            "                                               genre   type episodes  rating  \\\n",
            "0               Drama, Romance, School, Supernatural  Movie        1    9.37   \n",
            "1  Action, Adventure, Drama, Fantasy, Magic, Mili...     TV       64    9.26   \n",
            "2  Action, Comedy, Historical, Parody, Samurai, S...     TV       51    9.25   \n",
            "3                                   Sci-Fi, Thriller     TV       24    9.17   \n",
            "4  Action, Comedy, Historical, Parody, Samurai, S...     TV       51    9.16   \n",
            "\n",
            "   members  \n",
            "0   200630  \n",
            "1   793665  \n",
            "2   114262  \n",
            "3   673572  \n",
            "4   151266  \n",
            "Column names: Index(['anime_id', 'name', 'genre', 'type', 'episodes', 'rating', 'members'], dtype='object')\n",
            "<class 'pandas.core.frame.DataFrame'>\n",
            "RangeIndex: 12294 entries, 0 to 12293\n",
            "Data columns (total 7 columns):\n",
            " #   Column    Non-Null Count  Dtype  \n",
            "---  ------    --------------  -----  \n",
            " 0   anime_id  12294 non-null  int64  \n",
            " 1   name      12294 non-null  object \n",
            " 2   genre     12294 non-null  object \n",
            " 3   type      12269 non-null  object \n",
            " 4   episodes  12294 non-null  object \n",
            " 5   rating    12294 non-null  float64\n",
            " 6   members   12294 non-null  int64  \n",
            "dtypes: float64(1), int64(2), object(4)\n",
            "memory usage: 672.5+ KB\n",
            "None\n"
          ]
        }
      ],
      "source": [
        "import pandas as pd\n",
        "\n",
        "# Load the dataset\n",
        "file_path = 'anime.csv'\n",
        "anime_df = pd.read_csv(file_path)\n",
        "\n",
        "# Display the first few rows and column names\n",
        "print(\"First few rows of the dataset:\\n\", anime_df.head())\n",
        "print(\"Column names:\", anime_df.columns)\n",
        "\n",
        "# Handle missing values: Fill missing 'genre' with an empty string and 'rating' with the mean rating\n",
        "anime_df['genre'] = anime_df['genre'].fillna('')\n",
        "anime_df['rating'] = anime_df['rating'].fillna(anime_df['rating'].mean())\n",
        "\n",
        "# Ensure the 'title' column is in lowercase for consistent referencing\n",
        "anime_df.columns = anime_df.columns.str.lower()\n",
        "\n",
        "# Verify the changes\n",
        "print(anime_df.info())\n"
      ]
    },
    {
      "cell_type": "code",
      "source": [
        "from sklearn.preprocessing import MultiLabelBinarizer, MinMaxScaler\n",
        "\n",
        "# Extract genres by splitting the string into lists\n",
        "anime_df['genre'] = anime_df['genre'].str.split(', ')\n",
        "\n",
        "# Use MultiLabelBinarizer to convert genres to a binary format\n",
        "mlb = MultiLabelBinarizer()\n",
        "genre_features = mlb.fit_transform(anime_df['genre'])\n",
        "\n",
        "# Combine genre features with ratings\n",
        "features = pd.DataFrame(genre_features, columns=mlb.classes_)\n",
        "features['rating'] = anime_df['rating']\n",
        "\n",
        "# Check for any NaN values in the features DataFrame\n",
        "print(\"NaN values in features before normalization:\\n\", features.isna().sum())\n",
        "\n",
        "# Normalize ratings\n",
        "scaler = MinMaxScaler()\n",
        "features['rating'] = scaler.fit_transform(features[['rating']])\n",
        "\n",
        "# Ensure no NaN values after normalization\n",
        "features.fillna(0, inplace=True)\n",
        "\n",
        "# Verify no NaN values are present in the features DataFrame\n",
        "print(\"NaN values in features after normalization:\\n\", features.isna().sum())\n"
      ],
      "metadata": {
        "colab": {
          "base_uri": "https://localhost:8080/"
        },
        "id": "6uWGK6Opnl6T",
        "outputId": "bcc1eebb-670d-4825-ecbb-4a0e1959e07d"
      },
      "execution_count": 36,
      "outputs": [
        {
          "output_type": "stream",
          "name": "stdout",
          "text": [
            "NaN values in features before normalization:\n",
            "                  0\n",
            "Action           0\n",
            "Adventure        0\n",
            "Cars             0\n",
            "Comedy           0\n",
            "Dementia         0\n",
            "Demons           0\n",
            "Drama            0\n",
            "Ecchi            0\n",
            "Fantasy          0\n",
            "Game             0\n",
            "Harem            0\n",
            "Hentai           0\n",
            "Historical       0\n",
            "Horror           0\n",
            "Josei            0\n",
            "Kids             0\n",
            "Magic            0\n",
            "Martial Arts     0\n",
            "Mecha            0\n",
            "Military         0\n",
            "Music            0\n",
            "Mystery          0\n",
            "Parody           0\n",
            "Police           0\n",
            "Psychological    0\n",
            "Romance          0\n",
            "Samurai          0\n",
            "School           0\n",
            "Sci-Fi           0\n",
            "Seinen           0\n",
            "Shoujo           0\n",
            "Shoujo Ai        0\n",
            "Shounen          0\n",
            "Shounen Ai       0\n",
            "Slice of Life    0\n",
            "Space            0\n",
            "Sports           0\n",
            "Super Power      0\n",
            "Supernatural     0\n",
            "Thriller         0\n",
            "Vampire          0\n",
            "Yaoi             0\n",
            "Yuri             0\n",
            "rating           0\n",
            "dtype: int64\n",
            "NaN values in features after normalization:\n",
            "                  0\n",
            "Action           0\n",
            "Adventure        0\n",
            "Cars             0\n",
            "Comedy           0\n",
            "Dementia         0\n",
            "Demons           0\n",
            "Drama            0\n",
            "Ecchi            0\n",
            "Fantasy          0\n",
            "Game             0\n",
            "Harem            0\n",
            "Hentai           0\n",
            "Historical       0\n",
            "Horror           0\n",
            "Josei            0\n",
            "Kids             0\n",
            "Magic            0\n",
            "Martial Arts     0\n",
            "Mecha            0\n",
            "Military         0\n",
            "Music            0\n",
            "Mystery          0\n",
            "Parody           0\n",
            "Police           0\n",
            "Psychological    0\n",
            "Romance          0\n",
            "Samurai          0\n",
            "School           0\n",
            "Sci-Fi           0\n",
            "Seinen           0\n",
            "Shoujo           0\n",
            "Shoujo Ai        0\n",
            "Shounen          0\n",
            "Shounen Ai       0\n",
            "Slice of Life    0\n",
            "Space            0\n",
            "Sports           0\n",
            "Super Power      0\n",
            "Supernatural     0\n",
            "Thriller         0\n",
            "Vampire          0\n",
            "Yaoi             0\n",
            "Yuri             0\n",
            "rating           0\n",
            "dtype: int64\n"
          ]
        }
      ]
    },
    {
      "cell_type": "code",
      "source": [
        "from sklearn.metrics.pairwise import cosine_similarity\n",
        "\n",
        "# Compute cosine similarity\n",
        "cosine_sim = cosine_similarity(features)\n"
      ],
      "metadata": {
        "id": "zDzztcWgntCA"
      },
      "execution_count": 32,
      "outputs": []
    },
    {
      "cell_type": "code",
      "source": [
        "from sklearn.metrics.pairwise import cosine_similarity\n",
        "\n",
        "# Compute cosine similarity for the features\n",
        "cosine_sim = cosine_similarity(features)\n",
        "\n",
        "# Check the shape of the cosine similarity matrix\n",
        "print(\"Shape of cosine similarity matrix:\", cosine_sim.shape)\n"
      ],
      "metadata": {
        "colab": {
          "base_uri": "https://localhost:8080/"
        },
        "id": "cjCbGwx7qGUx",
        "outputId": "c3cb094d-917a-46c8-9ff8-8213599edd7e"
      },
      "execution_count": 37,
      "outputs": [
        {
          "output_type": "stream",
          "name": "stdout",
          "text": [
            "Shape of cosine similarity matrix: (12294, 12294)\n"
          ]
        }
      ]
    },
    {
      "cell_type": "code",
      "source": [
        "def get_recommendations(title, cosine_sim=cosine_sim, anime_df=anime_df):\n",
        "    # Ensure the column name 'title' is correctly referenced\n",
        "    title = title.lower()\n",
        "\n",
        "    # Check if the title exists in the DataFrame\n",
        "    if title not in anime_df['name'].str.lower().values:\n",
        "        return \"Title not found in the dataset\"\n",
        "\n",
        "    # Get the index of the anime with the given title\n",
        "    idx = anime_df[anime_df['name'].str.lower() == title].index[0]\n",
        "\n",
        "    # Get the pairwise similarity scores for all anime with that anime\n",
        "    sim_scores = list(enumerate(cosine_sim[idx]))\n",
        "\n",
        "    # Sort the anime based on the similarity scores\n",
        "    sim_scores = sorted(sim_scores, key=lambda x: x[1], reverse=True)\n",
        "\n",
        "    # Get the scores of the 10 most similar anime\n",
        "    sim_scores = sim_scores[1:11]  # Exclude the first one as it is the anime itself\n",
        "\n",
        "    # Get the anime indices\n",
        "    anime_indices = [i[0] for i in sim_scores]\n",
        "\n",
        "    # Return the top 10 most similar anime titles\n",
        "    return anime_df['name'].iloc[anime_indices]\n",
        "\n",
        "# Example usage\n",
        "recommendations = get_recommendations('Naruto')\n",
        "print(\"Recommendations for 'Naruto':\\n\", recommendations)\n"
      ],
      "metadata": {
        "colab": {
          "base_uri": "https://localhost:8080/"
        },
        "id": "OQzepQwyszRE",
        "outputId": "847a6d22-aae5-47f0-8215-6d9d189940d9"
      },
      "execution_count": 54,
      "outputs": [
        {
          "output_type": "stream",
          "name": "stdout",
          "text": [
            "Recommendations for 'Naruto':\n",
            " 615                                    Naruto: Shippuuden\n",
            "1103    Boruto: Naruto the Movie - Naruto ga Hokage ni...\n",
            "486                              Boruto: Naruto the Movie\n",
            "1343                                          Naruto x UT\n",
            "1472          Naruto: Shippuuden Movie 4 - The Lost Tower\n",
            "1573    Naruto: Shippuuden Movie 3 - Hi no Ishi wo Tsu...\n",
            "2458                 Naruto Shippuuden: Sunny Side Battle\n",
            "2997    Naruto Soyokazeden Movie: Naruto to Mashin to ...\n",
            "175                                Katekyo Hitman Reborn!\n",
            "7628                              Kyutai Panic Adventure!\n",
            "Name: name, dtype: object\n"
          ]
        }
      ]
    },
    {
      "cell_type": "markdown",
      "source": [
        "Detailed Explanation:\n",
        "\n",
        "Data Loading and Initial Preprocessing:\n",
        "\n",
        "Load the dataset and display the first few rows and column names to understand its structure.\n",
        "\n",
        "Handle missing values in 'genre' and 'rating'.\n",
        "\n",
        "Ensure column names are in lowercase for consistent referencing.\n",
        "\n",
        "Verify the changes by displaying DataFrame information.\n",
        "\n",
        "Feature Extraction and Preprocessing:\n",
        "\n",
        "Split the 'genre' column into lists.\n",
        "\n",
        "Convert genres into binary features using MultiLabelBinarizer.\n",
        "\n",
        "Combine genre features with ratings and check for NaN values.\n",
        "\n",
        "Normalize the ratings and ensure no NaN values remain.\n",
        "\n",
        "Computing Cosine Similarity:\n",
        "\n",
        "Compute cosine similarity for the features matrix and verify its shape.\n",
        "\n",
        "Recommendation Function:\n",
        "\n",
        "The function checks if the input title exists in the dataset and retrieves its index.\n",
        "\n",
        "Computes similarity scores for all other anime.\n",
        "Sorts and returns the top 10 most similar anime titles, excluding the input title itself.\n",
        "\n",
        "\n",
        "\n",
        "Interview Questions:\n",
        "\n",
        "1.Can you explain the difference between user-based and item-based collaborative filtering?\n",
        "\n",
        "User-based collaborative filtering recommends items by finding similar users to the target user and suggesting items that those similar users liked.\n",
        "\n",
        "Item-based collaborative filtering recommends items by finding similar items to the ones the target user has liked and suggesting these similar items to the user.\n",
        "\n",
        "2.What is collaborative filtering, and how does it work?\n",
        "\n",
        "Collaborative filtering is a technique used in recommendation systems that makes predictions about a user's interests by collecting preferences from many users. It works by identifying similarities between users or items and using those similarities to make recommendations.\n",
        "\n",
        "\n",
        "\n",
        "\n"
      ],
      "metadata": {
        "id": "Bgf2jkrlu6AW"
      }
    }
  ]
}